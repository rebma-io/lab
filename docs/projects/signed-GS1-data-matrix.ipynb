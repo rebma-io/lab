{
 "cells": [
  {
   "attachments": {},
   "cell_type": "markdown",
   "metadata": {},
   "source": [
    "# Signing GS1 Data Matrix Barcodes\n",
    "\n",
    "As part of my exploration of inventory and how you might keep some kind of\n",
    "traceability in parts, I wanted to explore the idea of using signatures on [GS1](https://www.gs1.org/)\n",
    "formatted [data matrix](https://en.wikipedia.org/wiki/Data_Matrix) barcodes. To\n",
    "do this, I used a few Python libraries: cyptography, biip, Pillow, and\n",
    "pylibdmtx. \n",
    "\n",
    "WARNING! I haven't really thought through the cryptography here, and you\n",
    "shouldn't trust me here. This is *just an exploration* of the ideas to see about\n",
    "their viability, and not a cryptographically secure solution."
   ]
  },
  {
   "attachments": {},
   "cell_type": "markdown",
   "metadata": {},
   "source": []
  },
  {
   "attachments": {},
   "cell_type": "markdown",
   "metadata": {
    "collapsed": false
   },
   "source": [
    "## Signing Keys\n",
    "\n",
    "Before we can go any further, we need to create some keys for us to use. For now, this doesn't really matter that much. For size purposes, though, we are going to stick to elliptic curve crypto to keep the amount of data involved to a minimum."
   ]
  },
  {
   "cell_type": "code",
   "execution_count": 32,
   "metadata": {
    "ExecuteTime": {
     "end_time": "2023-05-31T03:40:40.746110Z",
     "start_time": "2023-05-31T03:40:40.742672Z"
    },
    "collapsed": false
   },
   "outputs": [],
   "source": [
    "from cryptography.hazmat.primitives.asymmetric.ed25519 import Ed25519PrivateKey\n",
    "\n",
    "private_key = Ed25519PrivateKey.generate()\n",
    "public_key = private_key.public_key()"
   ]
  },
  {
   "attachments": {},
   "cell_type": "markdown",
   "metadata": {
    "collapsed": false
   },
   "source": [
    "Now that we have the public/private key pair, we need to work on generating the correct structure for a GS1 code. One of the keys of this system is to use a Function 1 Symbol Character (FNC1), which is used to both indicate the format of the sequence, and to (optionally) separate fields. The ASCII Group Separator (GS) character can also be used to separate variable length fields."
   ]
  },
  {
   "cell_type": "code",
   "execution_count": 33,
   "metadata": {
    "ExecuteTime": {
     "end_time": "2023-05-31T03:40:50.875107Z",
     "start_time": "2023-05-31T03:40:50.868887Z"
    },
    "collapsed": false
   },
   "outputs": [],
   "source": [
    "fnc1 = bytes([202])\n",
    "gs = bytes([29])"
   ]
  },
  {
   "attachments": {},
   "cell_type": "markdown",
   "metadata": {
    "collapsed": false
   },
   "source": [
    "Now let's put together the information that we want to smash into the GS1 data:"
   ]
  },
  {
   "cell_type": "code",
   "execution_count": 94,
   "metadata": {
    "ExecuteTime": {
     "end_time": "2023-05-31T04:12:02.669463Z",
     "start_time": "2023-05-31T04:12:02.658645Z"
    },
    "collapsed": false
   },
   "outputs": [],
   "source": [
    "part_number = b\"00312345678906\"  # N14\n",
    "production_date = b\"230530\"\n",
    "serial_number = b\"445423\"\n",
    "batch_number = b\"20230423\"\n",
    "\n",
    "# Application Identifiers\n",
    "ai_gtin = b\"01\"\n",
    "ai_production_date = b\"11\"\n",
    "ai_serial_number = b\"21\"\n",
    "ai_batch_number = b\"10\"\n",
    "ai_custom = b\"91\""
   ]
  },
  {
   "attachments": {},
   "cell_type": "markdown",
   "metadata": {
    "collapsed": false
   },
   "source": [
    "Putting this together with [the GS1 element string structure](https://www.gs1.org/standards/gs1-datamatrix-guideline/25#2-Encoding-data+2-2-GS1-element-strings), we can use this format string:"
   ]
  },
  {
   "cell_type": "code",
   "execution_count": 96,
   "metadata": {
    "ExecuteTime": {
     "end_time": "2023-05-31T04:12:05.831306Z",
     "start_time": "2023-05-31T04:12:05.822306Z"
    },
    "collapsed": false
   },
   "outputs": [
    {
     "name": "stdout",
     "output_type": "stream",
     "text": [
      "b'0100312345678906112305301020230423\\x1d21445423'\n"
     ]
    }
   ],
   "source": [
    "gs1_format = ai_gtin + part_number + ai_production_date + production_date + ai_batch_number + batch_number + gs + ai_serial_number + serial_number\n",
    "\n",
    "print(gs1_format)"
   ]
  },
  {
   "attachments": {},
   "cell_type": "markdown",
   "metadata": {
    "collapsed": false
   },
   "source": [
    "Now, let's make sure this parses properly."
   ]
  },
  {
   "cell_type": "code",
   "execution_count": 97,
   "metadata": {
    "ExecuteTime": {
     "end_time": "2023-05-31T04:12:07.281795Z",
     "start_time": "2023-05-31T04:12:07.273509Z"
    },
    "collapsed": false
   },
   "outputs": [
    {
     "name": "stdout",
     "output_type": "stream",
     "text": [
      "['GTIN', 'PROD DATE', 'BATCH/LOT', 'SERIAL']\n",
      "HRI: (01)00312345678906(11)230530(10)20230423(21)445423\n"
     ]
    }
   ],
   "source": [
    "from biip.gs1 import GS1Message\n",
    "\n",
    "gs1_message = GS1Message.parse(gs1_format.decode(\"utf-8\"))\n",
    "\n",
    "print([es.ai.data_title for es in gs1_message.element_strings])\n",
    "print(f\"HRI: {gs1_message.as_hri()}\")"
   ]
  },
  {
   "attachments": {},
   "cell_type": "markdown",
   "metadata": {
    "collapsed": false
   },
   "source": [
    "Now to turn this into a Datamatrix using the pylibdmtx library."
   ]
  },
  {
   "cell_type": "code",
   "execution_count": 98,
   "metadata": {
    "ExecuteTime": {
     "end_time": "2023-05-31T04:12:10.434444Z",
     "start_time": "2023-05-31T04:12:10.428655Z"
    },
    "collapsed": false
   },
   "outputs": [
    {
     "data": {
      "image/png": "[encoded data removed]",
      "text/plain": [
       "<PIL.Image.Image image mode=RGB size=120x120>"
      ]
     },
     "metadata": {},
     "output_type": "display_data"
    }
   ],
   "source": [
    "from pylibdmtx.pylibdmtx import encode\n",
    "from PIL import Image\n",
    "\n",
    "def convert_to_dm(b: bytes):\n",
    "    \"\"\"Convert the provided bytes object to a PIL Image.\"\"\"\n",
    "    dm_encoded = encode(b)\n",
    "    return Image.frombytes(\"RGB\", (dm_encoded.width, dm_encoded.height), dm_encoded.pixels)\n",
    "\n",
    "display(convert_to_dm(gs1_format))"
   ]
  },
  {
   "attachments": {},
   "cell_type": "markdown",
   "metadata": {
    "collapsed": false
   },
   "source": [
    "## Adding a Signature\n",
    "\n",
    "The next step is to take the information and combine it together with a signature. We are going to do this using the public/private key pair generated earlier. This will sign everything from `gs1_format` except for the first byte (FNC1). We will also verify that it's properly round-tripping."
   ]
  },
  {
   "cell_type": "code",
   "execution_count": 99,
   "metadata": {
    "ExecuteTime": {
     "end_time": "2023-05-31T04:12:12.432845Z",
     "start_time": "2023-05-31T04:12:12.427924Z"
    },
    "collapsed": false
   },
   "outputs": [
    {
     "name": "stdout",
     "output_type": "stream",
     "text": [
      "Message verified\n"
     ]
    }
   ],
   "source": [
    "message = gs1_format[1:]\n",
    "\n",
    "signature = private_key.sign(message)\n",
    "\n",
    "# Now verify it\n",
    "try:\n",
    "    public_key.verify(signature, message)\n",
    "    print(\"Message verified\")\n",
    "except:\n",
    "    print(\"VERIFICATION FAILED\")\n"
   ]
  },
  {
   "attachments": {},
   "cell_type": "markdown",
   "metadata": {
    "collapsed": false
   },
   "source": [
    "Now we can insert this into the Datamatrix. First, we need to convert it into safe ASCII characters. We will do this using base64 encoding. Unfortunately, we can't use ASCII85, as it contains invalid characters. Fortunately, it is only 88 characters (out of 90 available). Whew!"
   ]
  },
  {
   "cell_type": "code",
   "execution_count": 100,
   "metadata": {
    "ExecuteTime": {
     "end_time": "2023-05-31T04:12:14.415520Z",
     "start_time": "2023-05-31T04:12:14.409421Z"
    },
    "collapsed": false
   },
   "outputs": [
    {
     "name": "stdout",
     "output_type": "stream",
     "text": [
      "Length of signature: 88\n"
     ]
    }
   ],
   "source": [
    "import base64\n",
    "\n",
    "encoded_signature = base64.b64encode(signature)\n",
    "print(f\"Length of signature: {len(encoded_signature)}\")\n",
    "signed_gs1_format = gs1_format + gs + ai_custom + encoded_signature"
   ]
  },
  {
   "attachments": {},
   "cell_type": "markdown",
   "metadata": {
    "collapsed": false
   },
   "source": [
    "Finally, we can turn THAT back into a Datamatrix."
   ]
  },
  {
   "cell_type": "code",
   "execution_count": 101,
   "metadata": {
    "ExecuteTime": {
     "end_time": "2023-05-31T04:12:16.729885Z",
     "start_time": "2023-05-31T04:12:16.718738Z"
    },
    "collapsed": false
   },
   "outputs": [
    {
     "name": "stdout",
     "output_type": "stream",
     "text": [
      "Length of the original GS1 data: 43\n",
      "Length of the signed GS1 data: 134\n",
      "['GTIN', 'PROD DATE', 'BATCH/LOT', 'SERIAL', 'INTERNAL']\n",
      "HRI: (01)00312345678906(11)230530(10)20230423(21)445423(91)syZ/bdMksNbJjn1IOnJYeUEzYT2kLlpxuoghi796MT8Q9BYZt9HvuLV6W4OpFXTMyUbSFdNoN0W//ZWAj42KBQ==\n"
     ]
    },
    {
     "data": {
      "image/png": "[encoded data removed]",
      "text/plain": [
       "<PIL.Image.Image image mode=RGB size=220x220>"
      ]
     },
     "metadata": {},
     "output_type": "display_data"
    }
   ],
   "source": [
    "print(f\"Length of the original GS1 data: {len(gs1_format)}\")\n",
    "print(f\"Length of the signed GS1 data: {len(signed_gs1_format)}\")\n",
    "\n",
    "gs1_signed_message = GS1Message.parse(signed_gs1_format.decode(\"utf-8\"))\n",
    "\n",
    "print([es.ai.data_title for es in gs1_signed_message.element_strings])\n",
    "print(f\"HRI: {gs1_signed_message.as_hri()}\")\n",
    "\n",
    "display(convert_to_dm(signed_gs1_format))"
   ]
  }
 ],
 "metadata": {
  "kernelspec": {
   "display_name": "Python 3",
   "language": "python",
   "name": "python3"
  },
  "language_info": {
   "codemirror_mode": {
    "name": "ipython",
    "version": 2
   },
   "file_extension": ".py",
   "mimetype": "text/x-python",
   "name": "python",
   "nbconvert_exporter": "python",
   "pygments_lexer": "ipython2",
   "version": "2.7.6"
  }
 },
 "nbformat": 4,
 "nbformat_minor": 0
}
